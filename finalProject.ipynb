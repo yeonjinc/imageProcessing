{
 "cells": [
  {
   "cell_type": "code",
   "execution_count": 4,
   "metadata": {},
   "outputs": [],
   "source": [
    "import tkinter as tk\n",
    "import cv2\n",
    "import PIL.Image, PIL.ImageTk"
   ]
  },
  {
   "cell_type": "code",
   "execution_count": 47,
   "metadata": {},
   "outputs": [],
   "source": [
    "# global variables\n",
    "MARGIN = 10  # px\n",
    "\n",
    "class App():\n",
    "    def __init__(self, window, window_title, image_path=\"lena.bmp\"):\n",
    "        self.window = window\n",
    "        self.window.title(window_title)\n",
    "        \n",
    "        # Load an image using OpenCV\n",
    "        self.cv_img = cv2.cvtColor(cv2.imread(image_path), cv2.COLOR_BGR2RGB)\n",
    "        \n",
    "        # Get the image dimensions (OpenCV stores image data as NumPy ndarray)\n",
    "        self.height, self.width, no_channels = self.cv_img.shape\n",
    "        \n",
    "        # Create a canvas that can fit the above image\n",
    "        self.canvas = tk.Canvas(window, width = self.width*2, height = self.height)\n",
    "        self.canvas.pack()\n",
    "        \n",
    "        # Use PIL (Pillow) to convert the NumPy ndarray to a PhotoImage\n",
    "        self.photoOG = PIL.ImageTk.PhotoImage(image = PIL.Image.fromarray(self.cv_img))\n",
    "        self.photo = PIL.ImageTk.PhotoImage(image = PIL.Image.fromarray(self.cv_img))\n",
    "        self.label_og = tk.Label(window, text=\"Original Photo\")\n",
    "        self.label_og.pack(anchor=tk.W)\n",
    "        \n",
    "        # Add a PhotoImage to the Canvas (original)\n",
    "        self.canvas.create_image(0, 0, image=self.photoOG, anchor=tk.NW)\n",
    "        \n",
    "        # Add a PhotoImage to the Canvas (changing effects)\n",
    "        self.canvas.create_image(self.width+MARGIN, 0, image=self.photo, anchor=tk.NW)\n",
    "        \n",
    "        # Scale that lets the user blur the image\n",
    "        self.scl_blur=tk.Scale(\n",
    "            window, from_=1, to=50, orient=tk.HORIZONTAL, \n",
    "            command = self.blur_image, sliderlength=40)\n",
    "        self.scl_blur.pack(anchor=tk.SE, expand=True)\n",
    "        \n",
    "        # Scale that lets the user remove blemishes\n",
    "        self.scl_blmsh=tk.Scale(\n",
    "            window, from_=0, to=10, orient=tk.HORIZONTAL, \n",
    "            command = self.decBlemish_image, sliderlength=40)\n",
    "        self.scl_blmsh.pack(anchor=tk.SE, expand=True)\n",
    "        \n",
    "        \n",
    "        # Button that resets the image\n",
    "        self.btn_reset=tk.Button(self.window, text=\"Reset\", width=10, command=self.reset)\n",
    "        self.btn_reset.pack(anchor=tk.SW, expand=True)\n",
    "        \n",
    "        k = self.scl_blur.get()\n",
    "        self.window.mainloop()\n",
    "    \n",
    "    # Callback for the \"Blur\" Scale\n",
    "    def blur_image(self, k):\n",
    "        k = self.scl_blur.get()\n",
    "        self.NEWcv_img = cv2.blur(self.cv_img, (k, k))\n",
    "        self.photo = PIL.ImageTk.PhotoImage(image = PIL.Image.fromarray(self.NEWcv_img))\n",
    "        self.canvas.create_image(self.width+MARGIN, 0, image=self.photo, anchor=tk.NW)\n",
    "        \n",
    "    # Callback for the \"Blemish\" Scale\n",
    "    def decBlemish_image(self, k):\n",
    "        k = self.scl_blmsh.get()\n",
    "        # cancel out the effect\n",
    "        if k == 0:\n",
    "            self.photo = PIL.ImageTk.PhotoImage(image = PIL.Image.fromarray(self.cv_img))\n",
    "            self.canvas.create_image(self.width+MARGIN, 0, image=self.photo, anchor=tk.NW)\n",
    "        else:\n",
    "            sigmaColor = 75\n",
    "            sigmaSpace = 10\n",
    "            self.NEWcv_img = cv2.bilateralFilter(self.cv_img, k*5, sigmaColor, sigmaSpace)\n",
    "            self.photo = PIL.ImageTk.PhotoImage(image = PIL.Image.fromarray(self.NEWcv_img))\n",
    "            self.canvas.create_image(self.width+MARGIN, 0, image=self.photo, anchor=tk.NW)\n",
    "        \n",
    "    # Callback for the \"Reset\" Button\n",
    "    def reset(self):\n",
    "        # Reset Scales\n",
    "        self.scl_blur.set(1)  # blur\n",
    "        self.scl_blmsh.set(0)  # blemish\n",
    "        \n",
    "        # Original Image\n",
    "        self.photo = PIL.ImageTk.PhotoImage(image = PIL.Image.fromarray(self.cv_img))\n",
    "        self.canvas.create_image(self.width+MARGIN, 0, image=self.photo, anchor=tk.NW)    "
   ]
  },
  {
   "cell_type": "code",
   "execution_count": 48,
   "metadata": {},
   "outputs": [
    {
     "data": {
      "text/plain": [
       "<__main__.App at 0x120287470>"
      ]
     },
     "execution_count": 48,
     "metadata": {},
     "output_type": "execute_result"
    }
   ],
   "source": [
    "# Create a window and pass it to the Application object\n",
    "# App(tk.Toplevel(), \"Tkinter and OpenCV\")\n",
    "App(tk.Tk(), \"GUI Window\", \"jenny_resistor.bmp\")"
   ]
  },
  {
   "cell_type": "code",
   "execution_count": 9,
   "metadata": {},
   "outputs": [],
   "source": [
    "# main = tk.Tk()\n",
    "# # main = Toplevel()\n",
    "# main.geometry(\"1000x650\")\n",
    "# main.title(\"Main Window\")\n",
    "\n",
    "# # but1 = tk.Button(window, text='Load Image', height=2, width=10, command=window.destroy)\n",
    "# # but1.pack()\n",
    "# canvas1 = Canvas(main, width = 300, height = 300)\n",
    "# canvas1.pack()\n",
    "# # img1 = tk.PhotoImage(file=\"jenny_resistor.gif\")\n",
    "# img1 = ImageTk.PhotoImage(Image.open(\"jenny_resistor.gif\"))\n",
    "# canvas1.create_image(40, 40, anchor=full, image=img1)\n",
    "\n",
    "# main.mainloop()"
   ]
  },
  {
   "cell_type": "code",
   "execution_count": 1,
   "metadata": {},
   "outputs": [],
   "source": [
    "# # Create a window\n",
    "# main = tk.Tk()\n",
    "# main.geometry(\"1000x650\")\n",
    "# main.title(\"Main Window\")\n",
    "\n",
    "# # Load an image using OpenCV\n",
    "# cv_img1 = cv2.imread(\"jenny_resistor.jpg\")\n",
    "# cv_img1 = cv2.resize(cv_img1, None, fx=0.15, fy=0.15)  # resize image\n",
    "\n",
    "# # Get image dimensions\n",
    "# height, width, no_channels = cv_img1.shape\n",
    "\n",
    "# # Create a canvas that can fit the above image\n",
    "# canvas = tk.Canvas(main, width=width, height=height)\n",
    "# canvas.place(x=0, y=0)\n",
    "# canvas.pack()\n",
    "\n",
    "# # Convert np ndarray to PhotoImage\n",
    "# photo1 = PIL.ImageTk.PhotoImage(image = PIL.Image.fromarray(cv_img1))\n",
    "\n",
    "# # Add a PhotoImage to the Canvas\n",
    "# canvas.create_image(0, 0, image=photo1, anchor=tk.NW)\n",
    "\n",
    "# # Run the window loop\n",
    "# main.mainloop()"
   ]
  }
 ],
 "metadata": {
  "kernelspec": {
   "display_name": "Python 3",
   "language": "python",
   "name": "python3"
  },
  "language_info": {
   "codemirror_mode": {
    "name": "ipython",
    "version": 3
   },
   "file_extension": ".py",
   "mimetype": "text/x-python",
   "name": "python",
   "nbconvert_exporter": "python",
   "pygments_lexer": "ipython3",
   "version": "3.6.4"
  }
 },
 "nbformat": 4,
 "nbformat_minor": 2
}
